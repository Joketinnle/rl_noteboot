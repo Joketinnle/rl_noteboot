{
 "cells": [
  {
   "cell_type": "code",
   "execution_count": 1,
   "id": "17436667-263e-4263-857d-da70690a5707",
   "metadata": {},
   "outputs": [
    {
     "name": "stdout",
     "output_type": "stream",
     "text": [
      "Looking in indexes: https://pypi.tuna.tsinghua.edu.cn/simple\n",
      "Collecting gym==0.26.2\n",
      "  Using cached https://pypi.tuna.tsinghua.edu.cn/packages/ab/b1/eb05a423eb801ab7d0715d6a3b28d92589e30b437052553df19ca2087240/gym-0.26.2.tar.gz (721 kB)\n",
      "  Installing build dependencies ... \u001b[?25ldone\n",
      "\u001b[?25h  Getting requirements to build wheel ... \u001b[?25ldone\n",
      "\u001b[?25h  Preparing metadata (pyproject.toml) ... \u001b[?25ldone\n",
      "\u001b[?25hCollecting numpy>=1.18.0 (from gym==0.26.2)\n",
      "  Downloading https://pypi.tuna.tsinghua.edu.cn/packages/64/41/284783f1014685201e447ea976e85fed0e351f5debbaf3ee6d7645521f1d/numpy-1.26.2-cp310-cp310-manylinux_2_17_x86_64.manylinux2014_x86_64.whl (18.2 MB)\n",
      "\u001b[2K     \u001b[90m━━━━━━━━━━━━━━━━━━━━━━━━━━━━━━━━━━━━━━━━\u001b[0m \u001b[32m18.2/18.2 MB\u001b[0m \u001b[31m2.5 MB/s\u001b[0m eta \u001b[36m0:00:00\u001b[0m00:01\u001b[0m00:01\u001b[0mm\n",
      "\u001b[?25hCollecting cloudpickle>=1.2.0 (from gym==0.26.2)\n",
      "  Using cached https://pypi.tuna.tsinghua.edu.cn/packages/96/43/dae06432d0c4b1dc9e9149ad37b4ca8384cf6eb7700cd9215b177b914f0a/cloudpickle-3.0.0-py3-none-any.whl (20 kB)\n",
      "Collecting gym-notices>=0.0.4 (from gym==0.26.2)\n",
      "  Using cached https://pypi.tuna.tsinghua.edu.cn/packages/25/26/d786c6bec30fe6110fd3d22c9a273a2a0e56c0b73b93e25ea1af5a53243b/gym_notices-0.0.8-py3-none-any.whl (3.0 kB)\n",
      "Building wheels for collected packages: gym\n",
      "  Building wheel for gym (pyproject.toml) ... \u001b[?25ldone\n",
      "\u001b[?25h  Created wheel for gym: filename=gym-0.26.2-py3-none-any.whl size=827616 sha256=2a0d6df0efda8a5178ac67f3e407ae03050af988f061f26ab6e814c4c7ce1515\n",
      "  Stored in directory: /home/joey/.cache/pip/wheels/77/59/be/835c44599292a3abed875fc29b60dd489b8df8bc69c6103970\n",
      "Successfully built gym\n",
      "Installing collected packages: gym-notices, numpy, cloudpickle, gym\n",
      "Successfully installed cloudpickle-3.0.0 gym-0.26.2 gym-notices-0.0.8 numpy-1.26.2\n",
      "Looking in indexes: https://pypi.tuna.tsinghua.edu.cn/simple\n",
      "Collecting pygame==2.3.0\n",
      "  Downloading https://pypi.tuna.tsinghua.edu.cn/packages/9e/06/862c72fb8922a17838e101a094b0d10c5fa55cc5c26a3739ff35cd75f3c2/pygame-2.3.0-cp310-cp310-manylinux_2_17_x86_64.manylinux2014_x86_64.whl (13.8 MB)\n",
      "\u001b[2K     \u001b[90m━━━━━━━━━━━━━━━━━━━━━━━━━━━━━━━━━━━━━━━━\u001b[0m \u001b[32m13.8/13.8 MB\u001b[0m \u001b[31m3.1 MB/s\u001b[0m eta \u001b[36m0:00:00\u001b[0m00:01\u001b[0m00:01\u001b[0m\n",
      "\u001b[?25hInstalling collected packages: pygame\n",
      "Successfully installed pygame-2.3.0\n"
     ]
    }
   ],
   "source": [
    "!pip install gym==0.26.2\n",
    "!pip install pygame==2.3.0"
   ]
  },
  {
   "cell_type": "code",
   "execution_count": 2,
   "id": "7081442f-4590-4447-8593-4beb68a0b664",
   "metadata": {},
   "outputs": [
    {
     "name": "stderr",
     "output_type": "stream",
     "text": [
      "/home/joey/miniconda3/envs/rl/lib/python3.10/site-packages/gym/utils/passive_env_checker.py:233: DeprecationWarning: `np.bool8` is a deprecated alias for `np.bool_`.  (Deprecated NumPy 1.24)\n",
      "  if not isinstance(terminated, (bool, np.bool8)):\n"
     ]
    }
   ],
   "source": [
    "import gym\n",
    "env = gym.make('CartPole-v1', render_mode='rgb_array')\n",
    "env.reset()\n",
    "\n",
    "for i in range(10):\n",
    "    env.render()\n",
    "    action = env.action_space.sample()\n",
    "    env.step(action)\n",
    "\n",
    "env.close()"
   ]
  },
  {
   "cell_type": "code",
   "execution_count": 7,
   "id": "8065837b-c9bc-4d57-88c6-6321d2b85df9",
   "metadata": {},
   "outputs": [],
   "source": [
    "from IPython import display\n",
    "import matplotlib\n",
    "import matplotlib.pyplot as plt\n",
    "%matplotlib inline\n",
    "class GymHelper:\n",
    "    def __init__(self, env, figsize = (3,3)):\n",
    "        self.env = env\n",
    "        self.figsize = figsize\n",
    "        \n",
    "        plt.figure(figsize = figsize)\n",
    "        self.img = plt.imshow(env.render())\n",
    "\n",
    "    def render(self, title = None):\n",
    "        image_data = self.env.render()\n",
    "\n",
    "        self.img.set_data(image_data)\n",
    "        display.display(plt.gcf())\n",
    "        display.clear_output(wait = True)\n",
    "        if title:\n",
    "            plt.title(title)"
   ]
  },
  {
   "cell_type": "code",
   "execution_count": 10,
   "id": "fd18321f-9959-4f69-8a9f-5e799437f665",
   "metadata": {},
   "outputs": [
    {
     "data": {
      "image/png": "[encoded data removed]",
      "text/plain": [
       "<Figure size 300x300 with 1 Axes>"
      ]
     },
     "metadata": {},
     "output_type": "display_data"
    }
   ],
   "source": [
    "import gym\n",
    "\n",
    "evn = gym.make('CartPole-v1', render_mode='rgb_array')\n",
    "env.reset()\n",
    "gym_helper = GymHelper(env)\n",
    "\n",
    "for i in range(1000):\n",
    "    gym_helper.render(title = str(i))\n",
    "    action = env.action_space.sample()\n",
    "    env.step(action)\n",
    "env.close()"
   ]
  },
  {
   "cell_type": "code",
   "execution_count": null,
   "id": "a3da3161-f9bb-4e25-a6a1-b68c8b71d08c",
   "metadata": {},
   "outputs": [],
   "source": []
  }
 ],
 "metadata": {
  "kernelspec": {
   "display_name": "Python 3 (ipykernel)",
   "language": "python",
   "name": "python3"
  },
  "language_info": {
   "codemirror_mode": {
    "name": "ipython",
    "version": 3
   },
   "file_extension": ".py",
   "mimetype": "text/x-python",
   "name": "python",
   "nbconvert_exporter": "python",
   "pygments_lexer": "ipython3",
   "version": "3.10.13"
  }
 },
 "nbformat": 4,
 "nbformat_minor": 5
}
